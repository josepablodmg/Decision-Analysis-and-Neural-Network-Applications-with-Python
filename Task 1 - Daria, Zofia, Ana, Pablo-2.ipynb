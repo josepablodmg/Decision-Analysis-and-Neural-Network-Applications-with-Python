{
 "cells": [
  {
   "cell_type": "markdown",
   "id": "1fb11159",
   "metadata": {},
   "source": [
    "**Problem:**\n",
    "    \n",
    "Cash-Without-Borders A multi-national fintech company which offers payment\n",
    "solutions for private consumers as well as small- to medium-enterprises considers\n",
    "lowering their cost of technical support.\n",
    "The payment solution company has the strategy of offering payments transfers quick\n",
    "and in a hassle-free way.\n",
    "For technical support, the company consider the strategies: keep the support in-house\n",
    "as before, outsource to a call-centre in a third country or apply a specially trained chat-\n",
    "bot.\n",
    "The advantage of having the support in-house is that the company will lose high-value\n",
    "clients if the service becomes worse."
   ]
  },
  {
   "cell_type": "markdown",
   "id": "3bef892e",
   "metadata": {},
   "source": [
    "a) Do a SMART-analysis of the problem as described in Chapter 3, Decisions\n",
    "involving multiple objectives in the book Decision Analysis for Management\n",
    "Judgment on eStudy. Be sure to include a value-tree for the problem."
   ]
  },
  {
   "cell_type": "markdown",
   "id": "80b99b52",
   "metadata": {},
   "source": [
    "**SMART Analysis**\n",
    "\n",
    "**Specific:** The objective is to lower the cost of technical support while maintaining a high quality of service to avoid losing high-value clients.\n",
    "\n",
    "**Measurable:** The success can be measured by comparing the total costs of technical support and tracking customer satisfaction scores.\n",
    "\n",
    "**Achievable:** The goal is achievable by either keeping the support in-house, outsourcing to a third country, or using a chatbot.\n",
    "\n",
    "**Relevant:** Reducing costs is crucial for the company to remain competitive and profitable.\n",
    "\n",
    "**Time-bound:** The decision should be implemented within a specific time frame, for instance, within the next fiscal year.\n",
    "\n"
   ]
  },
  {
   "cell_type": "markdown",
   "id": "75574d55",
   "metadata": {},
   "source": [
    "**Value tree**\n",
    "\n",
    "The value tree for the problem can be divided into the main objective and sub-objectives that contribute to achieving the main goal.\n",
    "\n",
    "**Main Objective:** Reduce technical support costs while maintaining service quality.\n",
    "\n",
    "**Cost:**\n",
    "\n",
    "In-house support costs\n",
    "Outsourcing costs\n",
    "Chatbot development and maintenance costs\n",
    "\n",
    "**Quality of Service:**\n",
    "\n",
    "Customer satisfaction\n",
    "Response time\n",
    "Resolution effectiveness\n",
    "\n",
    "**Risk:**\n",
    "\n",
    "Risk of losing high-value clients\n",
    "Risk of technical issues\n",
    "Risk of implementation delays"
   ]
  },
  {
   "cell_type": "markdown",
   "id": "09227444",
   "metadata": {},
   "source": [
    "b) Briefly describe how you would go about to estimate the costs and risks of the\n",
    "activities in you value-tree."
   ]
  },
  {
   "cell_type": "markdown",
   "id": "061f9955",
   "metadata": {},
   "source": [
    "To estimate the costs and risks, we would:\n",
    "\n",
    "**In-house support costs:** Calculate the current expenditure on salaries, training, infrastructure, and other overheads. Estimate future costs based on current trends.\n",
    "\n",
    "**Outsourcing costs:** Obtain quotes from third-country call centers, including initial setup costs, ongoing operational costs, and any additional fees for high-quality service.\n",
    "\n",
    "**Chatbot costs:** Estimate the cost of developing and maintaining a chatbot, including initial development, regular updates, and occasional human intervention.\n",
    "\n",
    "**Customer satisfaction:** Conduct surveys or analyze customer feedback to estimate the impact of each strategy on customer satisfaction.\n",
    "\n",
    "**Risk analysis:** Identify potential risks for each strategy. Assign probabilities to each risk and estimate the potential financial impact. For instance, the risk of losing high-value clients can be estimated by the proportion of high-value clients and the potential revenue loss."
   ]
  },
  {
   "cell_type": "markdown",
   "id": "f11aaee4",
   "metadata": {},
   "source": [
    "c) Explain how you would find the maximum expected monetary value of the three\n",
    "main strategies in this case. Demonstrate your solution (either with a probability\n",
    "tree or through a Monte-Carlo simulation) on pen and paper or with Python code.\n",
    "In the answer you are required to show how you have attributed costs and risks\n",
    "(either probabilities or distribution of probabilities) for each uncertain cost. You\n",
    "should also give (made-up) monetary costs for each strategy."
   ]
  },
  {
   "cell_type": "markdown",
   "id": "f679ca4c",
   "metadata": {},
   "source": [
    "**Cost Estimates:**\n",
    "\n",
    "In-house support: $1,000,000 per year\n",
    "\n",
    "Outsourcing: $600,000 per year\n",
    "\n",
    "Chatbot: $300,000 per year\n",
    "\n",
    "**Risk Estimates:**\n",
    "\n",
    "Probability of losing high-value clients (In-house): 5%, cost impact: $500,000\n",
    "\n",
    "Probability of losing high-value clients (Outsourcing): 15%, cost impact: $500,000\n",
    "\n",
    "Probability of losing high-value clients (Chatbot): 10%, cost impact: $500,000\n",
    "\n",
    "**Quality of Service Estimates (Customer Satisfaction Impact):**\n",
    "\n",
    "In-house: High satisfaction, no additional cost\n",
    "\n",
    "Outsourcing: Medium satisfaction, additional cost to mitigate impact: $100,000\n",
    "\n",
    "Chatbot: Low to medium satisfaction, additional cost to mitigate impact: $150,000"
   ]
  },
  {
   "cell_type": "code",
   "execution_count": 1,
   "id": "faa6a508",
   "metadata": {},
   "outputs": [
    {
     "name": "stdout",
     "output_type": "stream",
     "text": [
      "{'in_house': 1024100.0, 'outsourcing': 775450.0, 'chatbot': 500600.0}\n"
     ]
    }
   ],
   "source": [
    "import numpy as np\n",
    "\n",
    "# Define cost and risk parameters\n",
    "\n",
    "costs = {\n",
    "    \"in_house\": 1000000,\n",
    "    \"outsourcing\": 600000,\n",
    "    \"chatbot\": 300000\n",
    "}\n",
    "\n",
    "risk_probabilities = {\n",
    "    \"in_house\": 0.05,\n",
    "    \"outsourcing\": 0.15,\n",
    "    \"chatbot\": 0.10\n",
    "}\n",
    "\n",
    "risk_cost_impact = 500000\n",
    "\n",
    "additional_costs = {\n",
    "    \"in_house\": 0,\n",
    "    \"outsourcing\": 100000,\n",
    "    \"chatbot\": 150000\n",
    "}\n",
    "\n",
    "# Simulation parameters\n",
    "\n",
    "iterations = 10000\n",
    "\n",
    "# Monte Carlo simulation function\n",
    "\n",
    "def monte_carlo_simulation(costs, risk_probabilities, risk_cost_impact, additional_costs, iterations):\n",
    "    results = {\"in_house\": [], \"outsourcing\": [], \"chatbot\": []}\n",
    "    strategies = [\"in_house\", \"outsourcing\", \"chatbot\"]\n",
    "\n",
    "    for _ in range(iterations):\n",
    "        for strategy in strategies:\n",
    "            risk_occurs = np.random.rand() < risk_probabilities[strategy]\n",
    "            total_cost = costs[strategy] + (risk_cost_impact if risk_occurs else 0) + additional_costs[strategy]\n",
    "            results[strategy].append(total_cost)\n",
    "    \n",
    "    return {strategy: np.mean(costs) for strategy, costs in results.items()}\n",
    "\n",
    "# Run simulation\n",
    "\n",
    "simulation_results = monte_carlo_simulation(costs, risk_probabilities, risk_cost_impact, additional_costs, iterations)\n",
    "print(simulation_results)"
   ]
  },
  {
   "cell_type": "markdown",
   "id": "3e2d6453",
   "metadata": {},
   "source": [
    "**Variables used and what will happen if we modify them:**\n",
    "\n",
    "**costs:** This variable holds the annual costs for each strategy. Changing these values will directly affect the base cost of each strategy.\n",
    "\n",
    "**risk_probabilities:** This variable holds the probability of losing high-value clients for each strategy. Changing these probabilities will affect the frequency with which the risk cost impact is added to the total cost.\n",
    "\n",
    "**risk_cost_impact:** This is the financial impact if the risk of losing high-value clients occurs. Changing this value will scale the additional costs incurred when the risk occurs.\n",
    "\n",
    "**additional_costs:** These are additional costs needed to maintain customer satisfaction for each strategy. Changing these values will affect the overall cost of each strategy.\n",
    "\n",
    "**iterations:** The number of simulations to run. Increasing the number of iterations can improve the accuracy of the simulation results but will take more computational time."
   ]
  },
  {
   "cell_type": "markdown",
   "id": "94d5ff30",
   "metadata": {},
   "source": [
    "**About the simulation function:**\n",
    "    \n",
    "The function runs iterations number of simulations:\n",
    "\n",
    "**np.random.rand()** < risk_probabilities[strategy]: In this line we used a random number generator to decide if the risk event occurs. If the generated random number is less than the risk probability for the strategy, the risk occurs.\n",
    "\n",
    "**total_cost:** Here we calculated the total cost for each strategy in a given iteration. It includes the base cost, the risk cost impact (if the risk occurs), and the additional cost for maintaining customer satisfaction.\n",
    "\n",
    "**results[strategy].append(total_cost)** Here we appended the calculated total cost to the results list for the strategy."
   ]
  },
  {
   "cell_type": "markdown",
   "id": "42c59bcb",
   "metadata": {},
   "source": [
    "d) In your model, which strategy is best? How sensitive is your solution to your\n",
    "assumptions?"
   ]
  },
  {
   "cell_type": "markdown",
   "id": "baf94ae6",
   "metadata": {},
   "source": [
    "**Best Strategy:**\n",
    "\n",
    "Based on the Monte Carlo simulation results, the strategy with the lowest expected monetary value (EMV) is the best. The results indicate:\n",
    "\n",
    "**In-house:** $1,025,050\n",
    "\n",
    "**Outsourcing:** $770,050\n",
    "\n",
    "**Chatbot:** $500,650\n",
    "\n",
    "The chatbot strategy has the lowest EMV, making it the best choice according to this analysis.\n",
    "\n",
    "**Sensitivity Analysis:**\n",
    "\n",
    "To perform a sensitivity analysis, we will vary the risk probabilities and cost impacts within a reasonable range to observe changes in the EMV. This will help us understand how sensitive our solution is to changes in assumptions.\n",
    "\n",
    "We will vary the probability of losing high-value clients and the associated cost impact for each strategy to see how these variations affect the EMV of the chatbot strategy compared to the others."
   ]
  },
  {
   "cell_type": "code",
   "execution_count": 2,
   "id": "26445688",
   "metadata": {},
   "outputs": [
    {
     "name": "stdout",
     "output_type": "stream",
     "text": [
      "Chatbot Sensitivity Analysis:\n",
      "Probability: 0.05, EMV: 476900.00\n",
      "Probability: 0.06, EMV: 479500.00\n",
      "Probability: 0.07, EMV: 486750.00\n",
      "Probability: 0.08, EMV: 490800.00\n",
      "Probability: 0.09, EMV: 496150.00\n",
      "Probability: 0.11, EMV: 501700.00\n",
      "Probability: 0.12, EMV: 509450.00\n",
      "Probability: 0.13, EMV: 515150.00\n",
      "Probability: 0.14, EMV: 521700.00\n",
      "Probability: 0.15, EMV: 526000.00\n"
     ]
    }
   ],
   "source": [
    "import numpy as np\n",
    "\n",
    "# Define the function for sensitivity analysis\n",
    "\n",
    "def sensitivity_analysis(base_prob, cost_impact, additional_cost, iterations):\n",
    "    results = []\n",
    "    for prob in np.linspace(base_prob - 0.05, base_prob + 0.05, 10):\n",
    "        result = monte_carlo_simulation(costs, {**risk_probabilities, \"chatbot\": prob}, cost_impact, additional_cost, iterations)\n",
    "        results.append((prob, result[\"chatbot\"]))\n",
    "    return results\n",
    "\n",
    "# Perform sensitivity analysis\n",
    "\n",
    "sensitivity_results = sensitivity_analysis(0.10, 500000, additional_costs, iterations)\n",
    "\n",
    "# Display sensitivity results\n",
    "\n",
    "print(\"Chatbot Sensitivity Analysis:\")\n",
    "for prob, emv in sensitivity_results:\n",
    "    print(f\"Probability: {prob:.2f}, EMV: {emv:.2f}\")"
   ]
  },
  {
   "cell_type": "markdown",
   "id": "a146fc4f",
   "metadata": {},
   "source": [
    "**sensitivity_analysis:** In this function we performed the sensitivity analysis by varying the risk probability of the chatbot strategy within a specified range.\n",
    "\n",
    "**np.linspace(base_prob - 0.05, base_prob + 0.05, 10):** This generates 10 evenly spaced probabilities within the range of base_prob ± 0.05."
   ]
  },
  {
   "cell_type": "markdown",
   "id": "75b3caf2",
   "metadata": {},
   "source": [
    "**Analysis**\n",
    "\n",
    "Lowest EMV: The chatbot strategy's EMV ranges from $474,400 (at a 5% probability) to $525,250 (at a 15% probability).\n",
    "\n",
    "**Comparison with Other Strategies:**\n",
    "\n",
    "In-house: EMV = $1,025,050\n",
    "\n",
    "Outsourcing: EMV = $770,050\n",
    "\n",
    "Chatbot: EMV ranges from $474,400 to $525,250\n",
    "\n",
    "The chatbot strategy has a lower EMV than both in-house and outsourcing strategies across all tested probabilities (0.05 to 0.15).\n",
    "\n",
    "**Robustness of Chatbot Strategy:**\n",
    "\n",
    "Probability 0.05 - 0.09: The EMV remains below $500,000, significantly lower than both in-house and outsourcing strategies.\n",
    "\n",
    "Probability 0.11 - 0.15: Even as the probability of losing high-value clients increases to 15%, the chatbot strategy's EMV of $525,250 remains lower than the outsourcing strategy of $770,050."
   ]
  },
  {
   "cell_type": "markdown",
   "id": "e65893ec",
   "metadata": {},
   "source": [
    "The chatbot strategy appears to be the best option, consistently offering the lowest EMV across a range of probabilities. It shows strong robustness, maintaining a lower EMV than both in-house and outsourcing strategies, even when the probability of losing high-value clients increases.\n",
    "\n",
    "This sensitivity analysis reassures that the chatbot strategy is preferable given the current assumptions and variations. However, ongoing evaluation and monitoring of risk probabilities and their impacts are recommended to ensure the strategy remains optimal over time."
   ]
  }
 ],
 "metadata": {
  "kernelspec": {
   "display_name": "Python 3 (ipykernel)",
   "language": "python",
   "name": "python3"
  },
  "language_info": {
   "codemirror_mode": {
    "name": "ipython",
    "version": 3
   },
   "file_extension": ".py",
   "mimetype": "text/x-python",
   "name": "python",
   "nbconvert_exporter": "python",
   "pygments_lexer": "ipython3",
   "version": "3.11.5"
  }
 },
 "nbformat": 4,
 "nbformat_minor": 5
}
